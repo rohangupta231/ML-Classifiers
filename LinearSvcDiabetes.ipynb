{
 "cells": [
  {
   "cell_type": "code",
   "execution_count": 3,
   "metadata": {},
   "outputs": [
    {
     "name": "stdout",
     "output_type": "stream",
     "text": [
      "Training time=  0:00:00.105936\n",
      "Testing time=  0:00:00\n",
      "[109. 281. 104. 281. 242.  72. 281. 281. 104.  71. 281. 248. 242. 248.\n",
      "  84. 281.  72.  72.  72.  71.  72. 281. 101. 242.  89.  71. 281.  72.\n",
      "  71.  87.  63. 242.  71. 281. 281. 281.  72.  63.  72.  72. 281. 281.\n",
      " 242.  71. 281.  72.  72.  84.  72.  71. 281.  71.  71. 310. 281.  72.\n",
      "  72.  71.  84. 217. 281.  84.  71.  72. 104.  84. 200. 268. 197. 200.\n",
      "  84.  71. 281.  71.  87.  55. 150.  72.  72. 101. 248.  71. 242. 200.\n",
      " 248. 281. 104.  72. 281.]\n",
      "[262. 164. 311. 288. 180. 115. 263. 109.  81.  43. 280. 235. 306. 230.\n",
      " 196. 277.  37. 191.  51. 178. 148.  70. 140. 192. 168. 265.  99.  60.\n",
      " 219. 170. 108. 243.  74. 261.  52. 124. 144. 109. 181.  65. 259. 220.\n",
      " 233.  85. 258.  47.  31.  96.  59.  67. 202. 138. 107. 277. 225.  77.\n",
      " 127.  42. 115. 181.  52.  67. 111.  57. 172. 107. 220. 262. 202.  68.\n",
      " 122.  77. 272. 145. 102. 200. 131.  96. 113.  94.  91.  88. 178. 147.\n",
      " 144. 208. 179.  97. 275.]\n",
      "Accuracy=0.0\n"
     ]
    }
   ],
   "source": [
    "from sklearn.svm import LinearSVC\n",
    "from sklearn.datasets import load_diabetes\n",
    "from sklearn.model_selection import train_test_split\n",
    "from datetime import datetime\n",
    "obj_dataset= load_diabetes()\n",
    "data=obj_dataset.data\n",
    "target=obj_dataset.target\n",
    "train_data,test_data,train_target,test_target=train_test_split(obj_dataset.data,obj_dataset.target,test_size=0.2)\n",
    "\"\"\"\"print(len(train_data))\n",
    "print(len(train_data))\n",
    "print(len(train_data))\n",
    "print(len(train_data))\n",
    "print(len(target))\n",
    "for i in range(0,len(data)):\n",
    "    if(i%10==0):\n",
    "        test_data.append(data[i])\n",
    "    else:\n",
    "        train_data.append(data[i])\n",
    "for i in range(0,len(target)):\n",
    "    if(i%10==0):\n",
    "        test_target.append(target[i])\n",
    "    else:\n",
    "        train_target.append(target[i])\n",
    "#print(data)\n",
    "#print(target)\n",
    "#print(train_data)\n",
    "#print(train_target)\"\"\"\n",
    "\n",
    "clf = LinearSVC(random_state=0)\n",
    "d1=datetime.now()\n",
    "clf.fit(train_data,train_target)\n",
    "d2=datetime.now()\n",
    "prediction=clf.predict(test_data)\n",
    "d3=datetime.now()\n",
    "print(\"Training time= \",d2-d1)\n",
    "print(\"Testing time= \",d3-d2)\n",
    "\n",
    "print(prediction)\n",
    "print(test_target)\n",
    "right=0\n",
    "for i in range(0,len(test_target)):\n",
    "    if(test_target[i]==prediction[i]):\n",
    "        right=right+1\n",
    "print(\"Accuracy=\",end=\"\")\n",
    "print(right/len(test_target))\n",
    "        "
   ]
  },
  {
   "cell_type": "code",
   "execution_count": null,
   "metadata": {},
   "outputs": [],
   "source": []
  }
 ],
 "metadata": {
  "kernelspec": {
   "display_name": "Python 3",
   "language": "python",
   "name": "python3"
  },
  "language_info": {
   "codemirror_mode": {
    "name": "ipython",
    "version": 3
   },
   "file_extension": ".py",
   "mimetype": "text/x-python",
   "name": "python",
   "nbconvert_exporter": "python",
   "pygments_lexer": "ipython3",
   "version": "3.6.5"
  }
 },
 "nbformat": 4,
 "nbformat_minor": 2
}
