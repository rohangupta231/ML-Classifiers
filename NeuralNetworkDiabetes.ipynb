{
 "cells": [
  {
   "cell_type": "code",
   "execution_count": 5,
   "metadata": {},
   "outputs": [
    {
     "name": "stdout",
     "output_type": "stream",
     "text": [
      "Training time=  0:00:01.303252\n",
      "Testing time=  0:00:00\n",
      "[214. 158. 192. 104.  71.  98. 173.  47. 124. 268. 202. 143. 277. 230.\n",
      " 167.  90. 111.  72.  63. 192. 200. 230. 217. 173.  65.  71. 135. 155.\n",
      " 217. 138. 258. 111. 124. 144. 185. 232. 258. 137. 206. 127. 103. 206.\n",
      "  78.  59. 276. 236.  99. 214. 144.  71. 137. 140.  81. 236. 270. 245.\n",
      "  71. 190.  39. 220.  39.  63.  64. 142. 174. 100. 215. 158.  58. 103.\n",
      "  71. 153. 158. 144. 258. 206. 152. 206.  74. 263. 185.  80. 195. 141.\n",
      " 185.  39. 170. 233. 131.]\n",
      "[115.  72. 121. 150.  92. 182. 155.  55. 257. 281. 265. 216. 245. 180.\n",
      " 272. 148. 259.  77.  91. 306. 121. 150. 272. 249.  63.  83.  71.  40.\n",
      " 186.  53. 220.  51. 164.  50. 163. 208. 310. 179. 162.  70. 175. 214.\n",
      "  31.  97.  85. 248.  97.  78. 244. 129.  94.  91. 104. 296. 257. 235.\n",
      "  70.  93. 102. 225. 128.  69.  72. 178. 116. 120. 258.  59. 144.  87.\n",
      "  88.  87.  96.  69. 275. 109. 252. 200.  90. 321.  86.  75. 280. 198.\n",
      " 252.  45.  63. 229. 139.]\n",
      "Accuracy=0.0\n"
     ]
    }
   ],
   "source": [
    "from sklearn.neural_network import MLPClassifier\n",
    "from sklearn.datasets import load_diabetes\n",
    "from sklearn.model_selection import train_test_split\n",
    "from datetime import datetime\n",
    "obj_dataset= load_diabetes()\n",
    "data=obj_dataset.data\n",
    "target=obj_dataset.target\n",
    "train_data,test_data,train_target,test_target=train_test_split(obj_dataset.data,obj_dataset.target,test_size=0.2)\n",
    "\"\"\"\"print(len(train_data))\n",
    "print(len(train_data))\n",
    "print(len(train_data))\n",
    "print(len(train_data))\n",
    "print(len(target))\n",
    "for i in range(0,len(data)):\n",
    "    if(i%10==0):\n",
    "        test_data.append(data[i])\n",
    "    else:\n",
    "        train_data.append(data[i])\n",
    "for i in range(0,len(target)):\n",
    "    if(i%10==0):\n",
    "        test_target.append(target[i])\n",
    "    else:\n",
    "        train_target.append(target[i])\n",
    "#print(data)\n",
    "#print(target)\n",
    "#print(train_data)\n",
    "#print(train_target)\"\"\"\n",
    "NN=MLPClassifier(solver='lbfgs',random_state=0)\n",
    "d1=datetime.now()\n",
    "NN.fit(train_data,train_target)\n",
    "d2=datetime.now()\n",
    "prediction=NN.predict(test_data)\n",
    "d3=datetime.now()\n",
    "print(\"Training time= \",d2-d1)\n",
    "print(\"Testing time= \",d3-d2)\n",
    "print(prediction)\n",
    "print(test_target)\n",
    "right=0\n",
    "for i in range(0,len(test_target)):\n",
    "    if(test_target[i]==prediction[i]):\n",
    "        right=right+1\n",
    "print(\"Accuracy=\",end=\"\")\n",
    "print(right/len(test_target))\n",
    "        "
   ]
  },
  {
   "cell_type": "code",
   "execution_count": null,
   "metadata": {},
   "outputs": [],
   "source": []
  }
 ],
 "metadata": {
  "kernelspec": {
   "display_name": "Python 3",
   "language": "python",
   "name": "python3"
  },
  "language_info": {
   "codemirror_mode": {
    "name": "ipython",
    "version": 3
   },
   "file_extension": ".py",
   "mimetype": "text/x-python",
   "name": "python",
   "nbconvert_exporter": "python",
   "pygments_lexer": "ipython3",
   "version": "3.6.5"
  }
 },
 "nbformat": 4,
 "nbformat_minor": 2
}
