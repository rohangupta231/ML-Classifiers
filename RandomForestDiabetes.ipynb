{
 "cells": [
  {
   "cell_type": "code",
   "execution_count": 6,
   "metadata": {},
   "outputs": [
    {
     "name": "stdout",
     "output_type": "stream",
     "text": [
      "Training time=  0:00:00.047980\n",
      "Testing time=  0:00:00.001995\n",
      "[ 40.  81. 173. 265.  52.  77. 252.  68. 197.  59. 113.  77.  71. 198.\n",
      "  44. 118.  51.  47. 243. 109.  72. 104.  69. 128.  77.  48.  59.  60.\n",
      "  77. 217. 197.  55.  40.  99.  66. 259. 118.  52.  97. 122.  66. 110.\n",
      " 151. 275.  90. 142.  95.  52. 292.  52.  77.  50.  44.  73.  52.  83.\n",
      " 265.  91. 248. 259.  81. 248. 198.  81.  83.  71.  78.  89.  94.  51.\n",
      "  93.  88.  63.  63. 249.  40. 152. 135.  67. 131. 100.  53. 225. 181.\n",
      " 275. 272.  51.  39.  72.]\n",
      "[283.  60. 232. 220. 115.  59.  71. 248. 163. 262. 150.  60.  72. 173.\n",
      " 216. 146. 182.  55. 310. 143. 111. 113. 201.  54.  68. 113. 111. 108.\n",
      "  69.  84. 209. 200.  37.  43.  74. 212. 132.  95. 109. 222. 276. 178.\n",
      " 129. 242. 160.  85.  67. 241. 107. 163. 156.  55. 219. 303. 233.  70.\n",
      " 202. 171. 230. 141. 118. 292. 196. 148. 138. 178.  90.  65. 104. 180.\n",
      "  92.  92.  96. 237. 268. 152. 310. 200. 168. 164. 131.  90. 150.  42.\n",
      " 180. 232.  75. 182.  49.]\n",
      "Accuracy=0.0\n"
     ]
    }
   ],
   "source": [
    " from sklearn.ensemble import RandomForestClassifier\n",
    "from sklearn.datasets import load_diabetes\n",
    "from sklearn.model_selection import train_test_split\n",
    "from datetime import datetime\n",
    "obj_dataset= load_diabetes()\n",
    "data=obj_dataset.data\n",
    "target=obj_dataset.target\n",
    "train_data,test_data,train_target,test_target=train_test_split(obj_dataset.data,obj_dataset.target,test_size=0.2)\n",
    "\"\"\"\"print(len(train_data))\n",
    "print(len(train_data))\n",
    "print(len(train_data))\n",
    "print(len(train_data))\n",
    "print(len(target))\n",
    "for i in range(0,len(data)):\n",
    "    if(i%10==0):\n",
    "        test_data.append(data[i])\n",
    "    else:\n",
    "        train_data.append(data[i])\n",
    "for i in range(0,len(target)):\n",
    "    if(i%10==0):\n",
    "        test_target.append(target[i])\n",
    "    else:\n",
    "        train_target.append(target[i])\n",
    "#print(data)\n",
    "#print(target)\n",
    "#print(train_data)\n",
    "#print(train_target)\"\"\"\n",
    "\n",
    "clf = RandomForestClassifier()\n",
    "d1=datetime.now()\n",
    "clf.fit(train_data,train_target)\n",
    "d2=datetime.now()\n",
    "prediction=clf.predict(test_data)\n",
    "d3=datetime.now()\n",
    "print(\"Training time= \",d2-d1)\n",
    "print(\"Testing time= \",d3-d2)\n",
    "\n",
    "print(prediction)\n",
    "print(test_target)\n",
    "right=0\n",
    "for i in range(0,len(test_target)):\n",
    "    if(test_target[i]==prediction[i]):\n",
    "        right=right+1\n",
    "print(\"Accuracy=\",end=\"\")\n",
    "print(right/len(test_target))\n",
    "        "
   ]
  },
  {
   "cell_type": "code",
   "execution_count": null,
   "metadata": {},
   "outputs": [],
   "source": []
  }
 ],
 "metadata": {
  "kernelspec": {
   "display_name": "Python 3",
   "language": "python",
   "name": "python3"
  },
  "language_info": {
   "codemirror_mode": {
    "name": "ipython",
    "version": 3
   },
   "file_extension": ".py",
   "mimetype": "text/x-python",
   "name": "python",
   "nbconvert_exporter": "python",
   "pygments_lexer": "ipython3",
   "version": "3.6.5"
  }
 },
 "nbformat": 4,
 "nbformat_minor": 2
}
