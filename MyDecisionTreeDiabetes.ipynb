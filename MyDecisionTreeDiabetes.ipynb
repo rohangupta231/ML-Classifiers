{
 "cells": [
  {
   "cell_type": "code",
   "execution_count": 2,
   "metadata": {},
   "outputs": [
    {
     "name": "stdout",
     "output_type": "stream",
     "text": [
      "[263. 186.  86. 121.  39. 178. 220.  87. 259. 232.  71. 178. 134. 150.\n",
      "  77. 124. 182.  68.  57.  93. 200.  45.  63. 237. 163.  42.  60. 232.\n",
      "  53. 143.  48.  72. 245. 131.  95.  96. 209. 222. 181.  55. 185.  59.\n",
      " 310. 232. 202.  97. 196. 198.  72.  71.  47. 295.  97.  88. 109. 253.\n",
      " 164. 109. 214. 296.  59. 144.  25. 174. 172. 109. 233.  47. 174.  72.\n",
      " 170.  97. 248. 246.  79. 197. 197.  53. 208.  42. 168.  60.  54. 321.\n",
      "  96.  71. 104.  93. 180.]\n",
      "[151. 116. 101. 283. 102. 127. 109. 170. 122. 283.  72.  67. 265. 220.\n",
      " 150. 156.  63. 137.  72.  98.  52.  60.  65. 270. 212. 200.  50. 202.\n",
      " 113. 114. 128. 141. 292. 140.  90. 135. 163. 144. 120. 144. 127.  60.\n",
      " 281. 132.  92. 168. 155. 265. 158.  70. 216. 277.  59. 200. 214. 198.\n",
      " 219.  66. 257. 189.  90.  53. 121.  91. 170.  53. 180.  52. 259.  94.\n",
      " 152. 275. 150. 184.  49. 237. 131.  51. 161.  43. 116.  71.  71. 252.\n",
      "  65.  71. 152.  87. 172.]\n",
      "Accuracy=0.011235955056179775\n"
     ]
    }
   ],
   "source": [
    "from sklearn.tree import DecisionTreeClassifier\n",
    "from sklearn.datasets import load_diabetes\n",
    "from sklearn.model_selection import train_test_split\n",
    "from datetime import datetime\n",
    "obj_dataset= load_diabetes()\n",
    "data=obj_dataset.data\n",
    "target=obj_dataset.target\n",
    "train_data,test_data,train_target,test_target=train_test_split(obj_dataset.data,obj_dataset.target,test_size=0.2)\n",
    "\"\"\"\"print(len(train_data))\n",
    "print(len(train_data))\n",
    "print(len(train_data))\n",
    "print(len(train_data))\n",
    "print(len(target))\n",
    "for i in range(0,len(data)):\n",
    "    if(i%10==0):\n",
    "        test_data.append(data[i])\n",
    "    else:\n",
    "        train_data.append(data[i])\n",
    "for i in range(0,len(target)):\n",
    "    if(i%10==0):\n",
    "        test_target.append(target[i])\n",
    "    else:\n",
    "        train_target.append(target[i])\n",
    "#print(data)\n",
    "#print(target)\n",
    "#print(train_data)\n",
    "#print(train_target)\"\"\"\n",
    "tree=DecisionTreeClassifier()\n",
    "d1=datetime.now()\n",
    "tree.fit(train_data,train_target)\n",
    "d2=datetime.now()\n",
    "prediction=tree.predict(test_data)\n",
    "d3=datetime.now()\n",
    "print(\"Training time= \",d2-d1)\n",
    "print(\"Testing time= \",d3-d2)\n",
    "print(prediction)\n",
    "print(test_target)\n",
    "right=0\n",
    "for i in range(0,len(test_target)):\n",
    "    if(test_target[i]==prediction[i]):\n",
    "        right=right+1\n",
    "print(\"Accuracy=\",end=\"\")\n",
    "print(right/len(test_target))\n",
    "        "
   ]
  },
  {
   "cell_type": "code",
   "execution_count": null,
   "metadata": {},
   "outputs": [],
   "source": []
  }
 ],
 "metadata": {
  "kernelspec": {
   "display_name": "Python 3",
   "language": "python",
   "name": "python3"
  },
  "language_info": {
   "codemirror_mode": {
    "name": "ipython",
    "version": 3
   },
   "file_extension": ".py",
   "mimetype": "text/x-python",
   "name": "python",
   "nbconvert_exporter": "python",
   "pygments_lexer": "ipython3",
   "version": "3.6.5"
  }
 },
 "nbformat": 4,
 "nbformat_minor": 2
}
