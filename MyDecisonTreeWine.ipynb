{
 "cells": [
  {
   "cell_type": "code",
   "execution_count": 3,
   "metadata": {},
   "outputs": [
    {
     "name": "stdout",
     "output_type": "stream",
     "text": [
      "Training time=  0:00:00.001001\n",
      "Testing time=  0:00:00.000998\n",
      "[2 1 1 0 0 2 1 2 0 2 0 1 2 1 1 0 0 1 0 0 2 2 1 1 1 2 2 2 0 0 1 2 1 2 0 2]\n",
      "[2 1 1 0 0 2 1 2 0 2 0 1 2 1 1 0 0 1 0 0 2 2 1 1 1 2 2 2 0 0 1 2 1 2 0 1]\n",
      "Accuracy=0.9722222222222222\n"
     ]
    }
   ],
   "source": [
    "from sklearn.tree import DecisionTreeClassifier\n",
    "from sklearn.datasets import load_wine\n",
    "from sklearn.model_selection import train_test_split\n",
    "from datetime import datetime\n",
    "obj_dataset= load_wine()\n",
    "data=obj_dataset.data\n",
    "target=obj_dataset.target\n",
    "train_data,test_data,train_target,test_target=train_test_split(obj_dataset.data,obj_dataset.target,test_size=0.2)\n",
    "\"\"\"\"print(len(train_data))\n",
    "print(len(train_data))\n",
    "print(len(train_data))\n",
    "print(len(train_data))\n",
    "print(len(target))\n",
    "for i in range(0,len(data)):\n",
    "    if(i%10==0):\n",
    "        test_data.append(data[i])\n",
    "    else:\n",
    "        train_data.append(data[i])\n",
    "for i in range(0,len(target)):\n",
    "    if(i%10==0):\n",
    "        test_target.append(target[i])\n",
    "    else:\n",
    "        train_target.append(target[i])\n",
    "#print(data)\n",
    "#print(target)\n",
    "#print(train_data)\n",
    "#print(train_target)\"\"\"\n",
    "tree=DecisionTreeClassifier()\n",
    "d1=datetime.now()\n",
    "tree.fit(train_data,train_target)\n",
    "d2=datetime.now()\n",
    "prediction=tree.predict(test_data)\n",
    "d3=datetime.now()\n",
    "print(\"Training time= \",d2-d1)\n",
    "print(\"Testing time= \",d3-d2)\n",
    "print(prediction)\n",
    "print(test_target)\n",
    "right=0\n",
    "for i in range(0,len(test_target)):\n",
    "    if(test_target[i]==prediction[i]):\n",
    "        right=right+1\n",
    "print(\"Accuracy=\",end=\"\")\n",
    "print(right/len(test_target))\n",
    "        "
   ]
  },
  {
   "cell_type": "code",
   "execution_count": null,
   "metadata": {},
   "outputs": [],
   "source": []
  }
 ],
 "metadata": {
  "kernelspec": {
   "display_name": "Python 3",
   "language": "python",
   "name": "python3"
  },
  "language_info": {
   "codemirror_mode": {
    "name": "ipython",
    "version": 3
   },
   "file_extension": ".py",
   "mimetype": "text/x-python",
   "name": "python",
   "nbconvert_exporter": "python",
   "pygments_lexer": "ipython3",
   "version": "3.6.5"
  }
 },
 "nbformat": 4,
 "nbformat_minor": 2
}
