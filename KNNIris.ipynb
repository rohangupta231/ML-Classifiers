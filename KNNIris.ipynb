{
 "cells": [
  {
   "cell_type": "code",
   "execution_count": 7,
   "metadata": {},
   "outputs": [
    {
     "name": "stdout",
     "output_type": "stream",
     "text": [
      "150\n"
     ]
    }
   ],
   "source": [
    "from sklearn.neighbors import KNeighborsClassifier\n",
    "from sklearn.datasets import load_iris\n",
    "obj_iris= load_iris()\n",
    "data=obj_iris.data\n",
    "target=obj_iris.target\n",
    "train_data=[]\n",
    "train_target=[]\n",
    "test_data=[]\n",
    "test_target=[]\n",
    "print(len(target))\n",
    "for i in range(0,len(data)):\n",
    "    if(i%10==0):\n",
    "        test_data.append(data[i])\n",
    "    else:\n",
    "        train_data.append(data[i])\n",
    "for i in range(0,len(target)):\n",
    "    if(i%10==0):\n",
    "        test_target.append(target[i])\n",
    "    else:\n",
    "        train_target.append(target[i])\n",
    "#print(data)\n",
    "#print(target)\n",
    "#print(train_data)\n",
    "#print(train_target)\n"
   ]
  },
  {
   "cell_type": "code",
   "execution_count": 11,
   "metadata": {},
   "outputs": [
    {
     "name": "stdout",
     "output_type": "stream",
     "text": [
      "[0 0 0 0 0 1 1 2 1 1 2 2 2 2 2]\n",
      "[0, 0, 0, 0, 0, 1, 1, 1, 1, 1, 2, 2, 2, 2, 2]\n"
     ]
    }
   ],
   "source": [
    "myclassifier=KNeighborsClassifier()\n",
    "myclassifier.fit(train_data,train_target)\n",
    "prediction=myclassifier.predict(test_data)\n",
    "print(prediction)\n",
    "print(test_target)"
   ]
  },
  {
   "cell_type": "code",
   "execution_count": 9,
   "metadata": {},
   "outputs": [
    {
     "name": "stdout",
     "output_type": "stream",
     "text": [
      "Accuracy=0.9333333333333333\n"
     ]
    }
   ],
   "source": [
    "right=0\n",
    "for i in range(0,len(test_target)):\n",
    "    if(test_target[i]==prediction[i]):\n",
    "        right=right+1\n",
    "print(\"Accuracy=\",end=\"\")\n",
    "print(right/len(test_target))\n",
    "        "
   ]
  },
  {
   "cell_type": "code",
   "execution_count": null,
   "metadata": {},
   "outputs": [],
   "source": []
  }
 ],
 "metadata": {
  "kernelspec": {
   "display_name": "Python 3",
   "language": "python",
   "name": "python3"
  },
  "language_info": {
   "codemirror_mode": {
    "name": "ipython",
    "version": 3
   },
   "file_extension": ".py",
   "mimetype": "text/x-python",
   "name": "python",
   "nbconvert_exporter": "python",
   "pygments_lexer": "ipython3",
   "version": "3.6.5"
  }
 },
 "nbformat": 4,
 "nbformat_minor": 2
}
