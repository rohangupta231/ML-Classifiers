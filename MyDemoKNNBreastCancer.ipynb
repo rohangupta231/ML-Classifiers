{
 "cells": [
  {
   "cell_type": "code",
   "execution_count": 1,
   "metadata": {},
   "outputs": [
    {
     "name": "stdout",
     "output_type": "stream",
     "text": [
      "[1, 1, 1, 0, 0, 0, 1, 0, 1, 1, 0, 1, 1, 1, 1, 1, 1, 1, 1, 1, 0, 1, 0, 0, 1, 1, 1, 1, 1, 1, 1, 1, 0, 0, 1, 0, 1, 1, 1, 1, 1, 0, 1, 0, 1, 1, 1, 1, 1, 1, 1, 0, 0, 1, 0, 0, 1, 0, 0, 0, 1, 1, 0, 0, 1, 0, 0, 0, 1, 0, 0, 1, 1, 1, 0, 0, 0, 1, 0, 0, 1, 1, 1, 0, 0, 0, 1, 0, 0, 1, 1, 1, 1, 1, 0, 0, 1, 0, 1, 1, 1, 1, 0, 1, 1, 0, 1, 1, 0, 1, 1, 0, 0, 1]\n",
      "[1 1 1 0 1 0 1 0 1 1 0 1 1 1 1 1 1 1 1 1 0 1 0 0 1 1 1 1 1 1 1 1 0 0 1 0 1\n",
      " 1 1 1 1 0 1 0 1 1 1 1 1 1 1 0 0 1 0 0 1 0 0 0 1 1 0 0 1 0 0 0 0 0 0 1 1 1\n",
      " 0 0 0 1 0 0 1 1 0 1 0 0 1 1 0 1 1 0 1 1 0 0 0 0 1 1 1 1 0 1 1 0 1 1 0 1 1\n",
      " 0 0 1]\n",
      "Accuracy=0.9385964912280702\n"
     ]
    }
   ],
   "source": [
    "from scipy.spatial import distance\n",
    "from sklearn.datasets import load_breast_cancer\n",
    "from sklearn.model_selection import train_test_split\n",
    "class MyDemoKNN:\n",
    "    def fit(self,train_data,train_label):\n",
    "        self.train_data=train_data.tolist()\n",
    "        self.train_label=train_label.tolist()\n",
    "    \n",
    "    def predict(self,test_data):\n",
    "        prediction=[]\n",
    "        for row in test_data:\n",
    "            label=self.findClosest(row)\n",
    "            prediction.append(label)\n",
    "        return prediction\n",
    "    \n",
    "    def findClosest(self,row):\n",
    "        best_distance=distance.euclidean(self.train_data[0],row)\n",
    "        best_index=0\n",
    "        #count=0\n",
    "        for t_row in self.train_data:\n",
    "            dist=distance.euclidean(t_row,row)\n",
    "            if dist<best_distance:\n",
    "                best_distance=dist\n",
    "                best_index=self.train_data.index(t_row)\n",
    "                #best_index=count\n",
    "            #count=count+1        \n",
    "        return self.train_label[best_index]        \n",
    "        \n",
    "obj_iris = load_breast_cancer()\n",
    "data = obj_iris.data\n",
    "target = obj_iris.target\n",
    "train_data,test_data,train_target,test_target=train_test_split(obj_iris.data,obj_iris.target,test_size=0.2)\n",
    "\"\"\"\"train_data = []\n",
    "train_target = []\n",
    "test_data = []\n",
    "test_target = []\n",
    "print(len(target))\n",
    "for i in range(0,len(data)):\n",
    "    if(i%10 == 0):\n",
    "        test_data.append(data[i])\n",
    "    else:\n",
    "        train_data.append(data[i])\n",
    "for i in range(0,len(target)):\n",
    "    if(i%10 == 0):\n",
    "        test_target.append(target[i])\n",
    "    else:\n",
    "        train_target.append(target[i])\n",
    "#print(data)\n",
    "#print(target)\n",
    "#print(train_data)\n",
    "#print(train_target)\"\"\"\n",
    "myclassifier = MyDemoKNN()\n",
    "myclassifier.fit(train_data,train_target)\n",
    "prediction = myclassifier.predict(test_data)\n",
    "print(prediction)\n",
    "print(test_target)\n",
    "\n",
    "right = 0\n",
    "for i in range(0,len(test_target)):\n",
    "    if(test_target[i] == prediction[i]):\n",
    "        right = right+1\n",
    "print(\"Accuracy=\",end=\"\")\n",
    "print(right/len(test_target))\n",
    "        "
   ]
  },
  {
   "cell_type": "code",
   "execution_count": null,
   "metadata": {},
   "outputs": [],
   "source": []
  }
 ],
 "metadata": {
  "kernelspec": {
   "display_name": "Python 3",
   "language": "python",
   "name": "python3"
  },
  "language_info": {
   "codemirror_mode": {
    "name": "ipython",
    "version": 3
   },
   "file_extension": ".py",
   "mimetype": "text/x-python",
   "name": "python",
   "nbconvert_exporter": "python",
   "pygments_lexer": "ipython3",
   "version": "3.6.5"
  }
 },
 "nbformat": 4,
 "nbformat_minor": 2
}
