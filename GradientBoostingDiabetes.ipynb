{
 "cells": [
  {
   "cell_type": "code",
   "execution_count": 5,
   "metadata": {},
   "outputs": [
    {
     "name": "stdout",
     "output_type": "stream",
     "text": [
      "Training time=  0:00:34.196400\n",
      "Testing time=  0:00:00.014992\n",
      "[ 59. 202. 187.  68. 225.  72. 184.  53. 258.  57. 235.  52. 142. 178.\n",
      " 102. 275.  53. 199. 151. 141.  72.  53. 127. 217. 178.  52.  42. 107.\n",
      " 264. 230.  49. 113. 111. 131.  85. 262. 134. 127.  53. 310.  96.  97.\n",
      " 198.  83.  69. 242.  42. 158.  64.  63.  89. 113.  68. 200.  49.  50.\n",
      " 114. 138. 111.  97. 190. 179. 151.  39. 115.  91.  95. 178. 151. 321.\n",
      " 170.  68.  52.  88.  83. 138.  72. 185. 272. 178.  98.  90.  71. 178.\n",
      " 178. 179. 178. 242. 242.]\n",
      "[ 77. 195. 200.  60.  71. 153. 101. 210. 336. 170. 173.  70.  51. 220.\n",
      " 108. 257.  97. 139. 118. 118.  93. 121. 160. 220. 144. 124.  90.  51.\n",
      " 237. 180.  67.  77. 129.  88. 142. 122.  72. 132.  44. 100. 172. 200.\n",
      "  63. 183. 116.  54.  63. 140.  97.  86. 102. 200. 168. 265. 182.  47.\n",
      "  65.  84.  59. 145. 248. 274.  91.  87. 311. 248. 141. 208. 152. 270.\n",
      " 138. 233. 143. 341. 257.  31.  61. 179. 233. 167. 148. 182. 144. 122.\n",
      " 237. 128. 233. 248.  99.]\n",
      "Accuracy=0.0\n"
     ]
    }
   ],
   "source": [
    " from sklearn.ensemble import GradientBoostingClassifier\n",
    "from sklearn.datasets import load_diabetes\n",
    "from sklearn.model_selection import train_test_split\n",
    "from datetime import datetime\n",
    "obj_dataset= load_diabetes()\n",
    "data=obj_dataset.data\n",
    "target=obj_dataset.target\n",
    "train_data,test_data,train_target,test_target=train_test_split(obj_dataset.data,obj_dataset.target,test_size=0.2)\n",
    "\"\"\"\"print(len(train_data))\n",
    "print(len(train_data))\n",
    "print(len(train_data))\n",
    "print(len(train_data))\n",
    "print(len(target))\n",
    "for i in range(0,len(data)):\n",
    "    if(i%10==0):\n",
    "        test_data.append(data[i])\n",
    "    else:\n",
    "        train_data.append(data[i])\n",
    "for i in range(0,len(target)):\n",
    "    if(i%10==0):\n",
    "        test_target.append(target[i])\n",
    "    else:\n",
    "        train_target.append(target[i])\n",
    "#print(data)\n",
    "#print(target)\n",
    "#print(train_data)\n",
    "#print(train_target)\"\"\"\n",
    "\n",
    "clf = GradientBoostingClassifier()\n",
    "d1=datetime.now()\n",
    "clf.fit(train_data,train_target)\n",
    "d2=datetime.now()\n",
    "prediction=clf.predict(test_data)\n",
    "d3=datetime.now()\n",
    "print(\"Training time= \",d2-d1)\n",
    "print(\"Testing time= \",d3-d2)\n",
    "print(prediction)\n",
    "print(test_target)\n",
    "right=0\n",
    "for i in range(0,len(test_target)):\n",
    "    if(test_target[i]==prediction[i]):\n",
    "        right=right+1\n",
    "print(\"Accuracy=\",end=\"\")\n",
    "print(right/len(test_target))\n",
    "        "
   ]
  },
  {
   "cell_type": "code",
   "execution_count": null,
   "metadata": {},
   "outputs": [],
   "source": []
  }
 ],
 "metadata": {
  "kernelspec": {
   "display_name": "Python 3",
   "language": "python",
   "name": "python3"
  },
  "language_info": {
   "codemirror_mode": {
    "name": "ipython",
    "version": 3
   },
   "file_extension": ".py",
   "mimetype": "text/x-python",
   "name": "python",
   "nbconvert_exporter": "python",
   "pygments_lexer": "ipython3",
   "version": "3.6.5"
  }
 },
 "nbformat": 4,
 "nbformat_minor": 2
}
